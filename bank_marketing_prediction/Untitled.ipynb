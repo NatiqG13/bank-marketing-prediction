{
 "cells": [
  {
   "cell_type": "code",
   "execution_count": 28,
   "id": "0de4c1d3-cd0a-4c30-955a-af81b5e4c339",
   "metadata": {
    "scrolled": true
   },
   "outputs": [
    {
     "name": "stdout",
     "output_type": "stream",
     "text": [
      "[[6718 1234]\n",
      " [ 184  907]]\n",
      "              precision    recall  f1-score   support\n",
      "\n",
      "           0       0.97      0.84      0.90      7952\n",
      "           1       0.42      0.83      0.56      1091\n",
      "\n",
      "    accuracy                           0.84      9043\n",
      "   macro avg       0.70      0.84      0.73      9043\n",
      "weighted avg       0.91      0.84      0.86      9043\n",
      "\n",
      "[[6203 1749]\n",
      " [ 291  800]]\n",
      "              precision    recall  f1-score   support\n",
      "\n",
      "           0       0.96      0.78      0.86      7952\n",
      "           1       0.31      0.73      0.44      1091\n",
      "\n",
      "    accuracy                           0.77      9043\n",
      "   macro avg       0.63      0.76      0.65      9043\n",
      "weighted avg       0.88      0.77      0.81      9043\n",
      "\n"
     ]
    }
   ],
   "source": [
    "import pandas as pd\n",
    "from sklearn.preprocessing import MinMaxScaler\n",
    "from sklearn.linear_model import LogisticRegression\n",
    "from sklearn.model_selection import train_test_split\n",
    "from sklearn.metrics import confusion_matrix\n",
    "from sklearn.metrics import classification_report\n",
    "from sklearn.ensemble import RandomForestClassifier\n",
    "\n",
    "\n",
    "df = pd.read_csv('bank-full.csv', sep=';')\n",
    "\n",
    "\n",
    "# Binary map yes/no columns\n",
    "df['housing']=df['housing'].map({'yes' : 1 , 'no' : 0})\n",
    "df['loan']=df['loan'].map({'yes' : 1 , 'no' : 0})\n",
    "df['default']=df['default'].map({'yes' : 1 , 'no' : 0})\n",
    "df['y']=df['y'].map({'yes' : 1 , 'no' : 0})\n",
    "\n",
    "# One-hot encoding multiclass categorical columns\n",
    "encoder = pd.get_dummies(df, columns=['job', 'marital', 'education', 'contact', 'month', 'poutcome'])\n",
    "\n",
    "# Scaling numerical features\n",
    "scaler = MinMaxScaler()\n",
    "values = scaler.fit_transform(df[['age','balance','day','duration','campaign','pdays','previous']])\n",
    "df[['age','balance','day','duration','campaign','pdays','previous']] = values\n",
    "\n",
    "# Creates features and labels\n",
    "X= encoder.drop('y', axis=1)\n",
    "y= encoder['y']\n",
    "\n",
    "#Splitting data\n",
    "X_train, X_test, y_train, y_test = train_test_split(X, y, test_size=0.2, random_state=42)\n",
    "\n",
    "# Train Logistic Regression\n",
    "model = LogisticRegression(class_weight ='balanced', max_iter=1000, solver='liblinear')\n",
    "model.fit(X_train,y_train)\n",
    "\n",
    "# Evaluate Logistic Regression\n",
    "cmatrix = confusion_matrix(y_test, model.predict(X_test))\n",
    "print(cmatrix)\n",
    "print(classification_report(y_test, model.predict(X_test)))\n",
    "\n",
    "# Train and evaluate Random Forest\n",
    "forest = RandomForestClassifier(max_depth=2, class_weight='balanced')\n",
    "RForest = forest.fit(X_train, y_train)\n",
    "print(confusion_matrix(y_test, RForest.predict(X_test)))\n",
    "print(classification_report(y_test, RForest.predict(X_test)))\n",
    "\n",
    "\n",
    "\n",
    "\n",
    "\n",
    "\n",
    "\n",
    "\n"
   ]
  }
 ],
 "metadata": {
  "kernelspec": {
   "display_name": "Python 3 (ipykernel)",
   "language": "python",
   "name": "python3"
  },
  "language_info": {
   "codemirror_mode": {
    "name": "ipython",
    "version": 3
   },
   "file_extension": ".py",
   "mimetype": "text/x-python",
   "name": "python",
   "nbconvert_exporter": "python",
   "pygments_lexer": "ipython3",
   "version": "3.11.9"
  }
 },
 "nbformat": 4,
 "nbformat_minor": 5
}
